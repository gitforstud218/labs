{
 "cells": [
  {
   "cell_type": "code",
   "execution_count": 6,
   "id": "c42860c1-5e34-4078-abb3-2deb2356b24d",
   "metadata": {},
   "outputs": [
    {
     "name": "stdout",
     "output_type": "stream",
     "text": [
      "===FIRST TASK===\n",
      "\n",
      "File name: russia_losses_equipment.csv \n",
      "==================\n",
      "Rowname:['date' 'day' 'aircraft' 'helicopter' 'tank' 'APC' 'field artillery' 'MRL'\n",
      " 'military auto' 'fuel tank' 'drone' 'naval ship' 'anti-aircraft warfare'\n",
      " 'special equipment' 'mobile SRBM system' 'greatest losses direction'\n",
      " 'vehicles and fuel tanks' 'cruise missiles' 'submarines']\n"
     ]
    }
   ],
   "source": [
    "import csv \n",
    "import numpy as np\n",
    "import os\n",
    "import matplotlib.pyplot as plt\n",
    "\n",
    "main_filename = 'russia_losses_equipment.csv'\n",
    "\n",
    "def open_file(filename=main_filename):\n",
    "    with open(filename) as file:\n",
    "        read_file = csv.reader(file)\n",
    "        # read_row = next(read_file)\n",
    "        # next(read_file)\n",
    "        result_file = np.array(list(read_file))\n",
    "        return result_file \n",
    "\n",
    "def first(rowname=None, filename=main_filename):\n",
    "    data = open_file(filename)\n",
    "    rowname = data[0,:]\n",
    "    filename_only = os.path.basename(filename)\n",
    "    filename_array = np.array(filename_only, dtype='str')\n",
    "    result = print(f\"===FIRST TASK===\\n\\nFile name: {filename_array} \\n==================\\nRowname:{rowname}\")\n",
    "    return result\n",
    "\n",
    "first()"
   ]
  },
  {
   "cell_type": "code",
   "execution_count": 7,
   "id": "ec5475c4-ccd0-4ae5-9820-870fe9410282",
   "metadata": {},
   "outputs": [
    {
     "name": "stdout",
     "output_type": "stream",
     "text": [
      "===SECOND===\n",
      "\n",
      "['369' '369' '369' '369' '368' '368' '368' '368' '368' '368' '368' '368'\n",
      " '368' '368' '368' '368' '368' '368' '368' '367' '367' '367' '367' '367'\n",
      " '367' '367' '367' '367' '367' '367' '367' '367' '366' '366' '366' '366'\n",
      " '366' '366' '366' '365' '365' '365' '363' '363' '363' '363' '363' '363'\n",
      " '363' '363' '363' '363' '363' '363' '362' '362' '362' '362' '361' '361'\n",
      " '361' '361' '361' '361' '361' '361' '361' '361' '361' '361' '360' '360'\n",
      " '360' '360' '360' '360' '360' '360' '360' '360' '359' '359' '359' '359'\n",
      " '359' '359' '359' '359' '359' '359' '359' '359' '359' '359' '359' '359'\n",
      " '359' '358' '357' '357' '357' '357' '357' '357' '357' '357' '357' '357'\n",
      " '357' '357' '357' '357' '357' '356' '356' '355' '354' '354' '354' '354'\n",
      " '354' '353' '351' '351' '351' '350' '350' '349' '349' '349' '349' '349'\n",
      " '349' '349' '348' '348' '348' '348' '348' '348' '348' '348' '348' '348'\n",
      " '348' '348' '348' '348' '348' '347' '347' '347' '347' '347' '347' '347'\n",
      " '347' '347' '347' '347' '347' '347' '347' '347' '347' '347' '347' '347'\n",
      " '347' '347' '347' '347' '347' '347' '347' '347' '347' '347' '347' '347'\n",
      " '347' '347' '347' '347' '347' '347' '347' '347' '347' '347' '347' '347'\n",
      " '347' '347' '347' '347' '347' '346' '345' '342' '342' '340' '340' '340'\n",
      " '340' '339' '339' '338' '338' '336' '335' '332' '332' '332' '332' '332'\n",
      " '332' '332' '332' '332' '332' '332' '332' '332' '332' '332' '332' '332'\n",
      " '332' '332' '331' '331' '331' '331' '331' '331' '331' '331' '331' '331'\n",
      " '331' '331' '331' '331' '329' '329' '329' '329' '329' '329' '329' '329'\n",
      " '329' '329' '329' '329' '329' '329' '329' '329' '329' '329' '329' '329'\n",
      " '329' '329' '327' '327' '324' '324' '324' '324' '324' '324' '324' '324'\n",
      " '324' '324' '324' '324' '324' '324' '324' '324' '324' '323' '323' '323'\n",
      " '323' '323' '323' '323' '323' '323' '323' '323' '323' '323' '323' '323'\n",
      " '323' '323' '323' '323' '323' '323' '322' '322' '322' '322' '322' '322'\n",
      " '322' '322' '322' '322' '322' '322' '322' '321' '321' '321' '320' '320'\n",
      " '320' '320' '320' '320' '320' '320' '320' '320' '320' '319' '318' '318'\n",
      " '317' '317' '316' '316' '316' '315' '315' '315' '315' '315' '315' '315'\n",
      " '315' '316' '316' '315' '315' '315' '315' '315' '315' '315' '315' '315'\n",
      " '315' '315' '315' '315' '315' '315' '315' '315' '315' '315' '315' '315'\n",
      " '315' '315' '315' '315' '315' '315' '315' '315' '315' '315' '315' '315'\n",
      " '315' '315' '315' '315' '315' '315' '315' '315' '315' '315' '315' '315'\n",
      " '315' '315' '315' '315' '315' '315' '315' '315' '315' '315' '315' '315'\n",
      " '315' '315' '315' '315' '315' '315' '315' '315' '315' '315' '315' '315'\n",
      " '315' '315' '315' '315' '315' '315' '315' '315' '315' '315' '315' '315'\n",
      " '315' '315' '315' '315' '315' '315' '315' '315' '315' '315' '315' '315'\n",
      " '315' '314' '314' '314' '314' '314' '314' '314' '314' '314' '314' '314'\n",
      " '314' '314' '314' '314' '314' '314' '314' '314' '314' '314' '314' '313'\n",
      " '313' '313' '313' '313' '313' '313' '313' '313' '313' '310' '310' '309'\n",
      " '309' '309' '309' '308' '308' '308' '308' '308' '308' '308' '308' '308'\n",
      " '308' '308' '308' '308' '308' '308' '308' '308' '308' '308' '308' '308'\n",
      " '308' '308' '308' '308' '308' '308' '308' '308' '308' '308' '308' '308'\n",
      " '308' '308' '308' '307' '307' '307' '307' '307' '307' '307' '307' '306'\n",
      " '306' '306' '306' '306' '306' '306' '306' '306' '306' '305' '305' '305'\n",
      " '305' '305' '305' '305' '305' '305' '305' '305' '305' '305' '304' '304'\n",
      " '304' '304' '304' '304' '303' '303' '303' '302' '302' '302' '301' '300'\n",
      " '300' '300' '300' '299' '299' '299' '299' '299' '299' '299' '298' '298'\n",
      " '298' '298' '298' '298' '296' '296' '295' '295' '295' '295' '294' '294'\n",
      " '294' '294' '294' '293' '293' '293' '293' '293' '293' '292' '292' '290'\n",
      " '289' '287' '287' '287' '287' '287' '287' '286' '286' '286' '286' '286'\n",
      " '285' '285' '285' '285' '285' '285' '285' '284' '283' '283' '283' '283'\n",
      " '283' '283' '283' '283' '283' '283' '283' '283' '283' '283' '282' '281'\n",
      " '281' '281' '281' '281' '281' '281' '281' '281' '281' '281' '281' '281'\n",
      " '281' '281' '281' '281' '280' '280' '280' '280' '280' '278' '278' '278'\n",
      " '278' '278' '278' '278' '278' '278' '278' '278' '278' '278' '278' '278'\n",
      " '278' '278' '278' '278' '278' '278' '277' '277' '277' '277' '277' '277'\n",
      " '276' '275' '274' '273' '272' '271' '271' '271' '270' '270' '270' '269'\n",
      " '269' '269' '268' '268' '268' '268' '268' '268' '268' '268' '267' '266'\n",
      " '266' '266' '266' '266' '266' '265' '264' '264' '264' '262' '262' '261'\n",
      " '260' '259' '255' '254' '253' '253' '252' '251' '251' '251' '250' '250'\n",
      " '246' '244' '243' '242' '239' '239' '239' '237' '236' '236' '236' '235'\n",
      " '234' '234' '234' '234' '234' '234' '234' '234' '234' '234' '234' '234'\n",
      " '234' '234' '234' '234' '233' '233' '233' '233' '233' '233' '232' '232'\n",
      " '223' '223' '223' '223' '223' '223' '223' '223' '223' '223' '222' '222'\n",
      " '222' '222' '222' '222' '221' '221' '221' '221' '221' '220' '220' '220'\n",
      " '220' '220' '219' '217' '217' '217' '217' '217' '217' '217' '217' '217'\n",
      " '217' '217' '217' '217' '217' '217' '217' '217' '217' '217' '216' '216'\n",
      " '216' '216' '216' '216' '216' '215' '213' '213' '213' '213' '212' '212'\n",
      " '212' '212' '212' '212' '211' '210' '210' '210' '210' '208' '208' '207'\n",
      " '207' '207' '206' '206' '206' '205' '204' '204' '204' '204' '203' '202'\n",
      " '201' '200' '200' '200' '200' '199' '199' '199' '199' '199' '199' '199'\n",
      " '196' '194' '194' '194' '192' '190' '189' '187' '185' '184' '181' '179'\n",
      " '177' '176' '172' '171' '169' '167' '165' '163' '163' '160' '158' '157'\n",
      " '154' '152' '151' '150' '150' '150' '150' '147' '143' '143' '143' '135'\n",
      " '131' '127' '123' '121' '117' '115' '108' '101' '99' '97' '96' '95' '93'\n",
      " '86' '84' '81' '77' '74' '58' '57' '49' '49' '48' '46' '44' '39' '33'\n",
      " '30' '30' '29' '29' '27' '27' '10']\n"
     ]
    }
   ],
   "source": [
    "def second(filename=main_filename):\n",
    "    data = open_file(filename)\n",
    "    row_aircraft = data[0,:]\n",
    "    # result = row_aircraft.index('aircraft')\n",
    "    result_rowname =  np.where(row_aircraft == 'aircraft')[0][0]\n",
    "    resutl_value = data[1:, result_rowname]\n",
    "    print(f\"===SECOND===\\n\\n{resutl_value}\")\n",
    "\n",
    "second()"
   ]
  },
  {
   "cell_type": "code",
   "execution_count": 4,
   "id": "08ff18aa-a3fe-4552-b39b-3de380f7822c",
   "metadata": {},
   "outputs": [
    {
     "name": "stdout",
     "output_type": "stream",
     "text": [
      "===THIRD===\n",
      "\n",
      "[  0   0   0  -1   0   0   0   0   0   0   0   0   0   0   0   0   0   0\n",
      "  -1   0   0   0   0   0   0   0   0   0   0   0   0  -1   0   0   0   0\n",
      "   0   0  -1   0   0  -2   0   0   0   0   0   0   0   0   0   0   0  -1\n",
      "   0   0   0  -1   0   0   0   0   0   0   0   0   0   0   0  -1   0   0\n",
      "   0   0   0   0   0   0   0  -1   0   0   0   0   0   0   0   0   0   0\n",
      "   0   0   0   0   0   0  -1  -1   0   0   0   0   0   0   0   0   0   0\n",
      "   0   0   0   0  -1   0  -1  -1   0   0   0   0  -1  -2   0   0  -1   0\n",
      "  -1   0   0   0   0   0   0  -1   0   0   0   0   0   0   0   0   0   0\n",
      "   0   0   0   0  -1   0   0   0   0   0   0   0   0   0   0   0   0   0\n",
      "   0   0   0   0   0   0   0   0   0   0   0   0   0   0   0   0   0   0\n",
      "   0   0   0   0   0   0   0   0   0   0   0   0   0   0   0   0  -1  -1\n",
      "  -3   0  -2   0   0   0  -1   0  -1   0  -2  -1  -3   0   0   0   0   0\n",
      "   0   0   0   0   0   0   0   0   0   0   0   0   0  -1   0   0   0   0\n",
      "   0   0   0   0   0   0   0   0   0  -2   0   0   0   0   0   0   0   0\n",
      "   0   0   0   0   0   0   0   0   0   0   0   0   0  -2   0  -3   0   0\n",
      "   0   0   0   0   0   0   0   0   0   0   0   0   0   0  -1   0   0   0\n",
      "   0   0   0   0   0   0   0   0   0   0   0   0   0   0   0   0   0  -1\n",
      "   0   0   0   0   0   0   0   0   0   0   0   0  -1   0   0  -1   0   0\n",
      "   0   0   0   0   0   0   0   0  -1  -1   0  -1   0  -1   0   0  -1   0\n",
      "   0   0   0   0   0   0   1   0  -1   0   0   0   0   0   0   0   0   0\n",
      "   0   0   0   0   0   0   0   0   0   0   0   0   0   0   0   0   0   0\n",
      "   0   0   0   0   0   0   0   0   0   0   0   0   0   0   0   0   0   0\n",
      "   0   0   0   0   0   0   0   0   0   0   0   0   0   0   0   0   0   0\n",
      "   0   0   0   0   0   0   0   0   0   0   0   0   0   0   0   0   0   0\n",
      "   0   0   0   0   0   0   0   0   0   0   0   0  -1   0   0   0   0   0\n",
      "   0   0   0   0   0   0   0   0   0   0   0   0   0   0   0   0  -1   0\n",
      "   0   0   0   0   0   0   0   0  -3   0  -1   0   0   0  -1   0   0   0\n",
      "   0   0   0   0   0   0   0   0   0   0   0   0   0   0   0   0   0   0\n",
      "   0   0   0   0   0   0   0   0   0   0   0   0   0   0  -1   0   0   0\n",
      "   0   0   0   0  -1   0   0   0   0   0   0   0   0   0  -1   0   0   0\n",
      "   0   0   0   0   0   0   0   0   0  -1   0   0   0   0   0  -1   0   0\n",
      "  -1   0   0  -1  -1   0   0   0  -1   0   0   0   0   0   0  -1   0   0\n",
      "   0   0   0  -2   0  -1   0   0   0  -1   0   0   0   0  -1   0   0   0\n",
      "   0   0  -1   0  -2  -1  -2   0   0   0   0   0  -1   0   0   0   0  -1\n",
      "   0   0   0   0   0   0  -1  -1   0   0   0   0   0   0   0   0   0   0\n",
      "   0   0   0  -1  -1   0   0   0   0   0   0   0   0   0   0   0   0   0\n",
      "   0   0   0  -1   0   0   0   0  -2   0   0   0   0   0   0   0   0   0\n",
      "   0   0   0   0   0   0   0   0   0   0   0  -1   0   0   0   0   0  -1\n",
      "  -1  -1  -1  -1  -1   0   0  -1   0   0  -1   0   0  -1   0   0   0   0\n",
      "   0   0   0  -1  -1   0   0   0   0   0  -1  -1   0   0  -2   0  -1  -1\n",
      "  -1  -4  -1  -1   0  -1  -1   0   0  -1   0  -4  -2  -1  -1  -3   0   0\n",
      "  -2  -1   0   0  -1  -1   0   0   0   0   0   0   0   0   0   0   0   0\n",
      "   0   0   0  -1   0   0   0   0   0  -1   0  -9   0   0   0   0   0   0\n",
      "   0   0   0  -1   0   0   0   0   0  -1   0   0   0   0  -1   0   0   0\n",
      "   0  -1  -2   0   0   0   0   0   0   0   0   0   0   0   0   0   0   0\n",
      "   0   0   0  -1   0   0   0   0   0   0  -1  -2   0   0   0  -1   0   0\n",
      "   0   0   0  -1  -1   0   0   0  -2   0  -1   0   0  -1   0   0  -1  -1\n",
      "   0   0   0  -1  -1  -1  -1   0   0   0  -1   0   0   0   0   0   0  -3\n",
      "  -2   0   0  -2  -2  -1  -2  -2  -1  -3  -2  -2  -1  -4  -1  -2  -2  -2\n",
      "  -2   0  -3  -2  -1  -3  -2  -1  -1   0   0   0  -3  -4   0   0  -8  -4\n",
      "  -4  -4  -2  -4  -2  -7  -7  -2  -2  -1  -1  -2  -7  -2  -3  -4  -3 -16\n",
      "  -1  -8   0  -1  -2  -2  -5  -6  -3   0  -1   0  -2   0 -17]\n"
     ]
    }
   ],
   "source": [
    "def third(filename=main_filename):\n",
    "    data = open_file(filename)\n",
    "    row_aircraft = data[0,:]\n",
    "    result_rowname =  np.where(row_aircraft == 'aircraft')[0][0]\n",
    "    aircraft_values = data[1:, result_rowname].astype(int)\n",
    "    resutl_value = np.diff(aircraft_values)\n",
    "    print(f\"===THIRD===\\n\\n{resutl_value}\")  \n",
    "third()"
   ]
  },
  {
   "cell_type": "code",
   "execution_count": 5,
   "id": "a14ce4cd-c59b-478c-9521-bf7e06465706",
   "metadata": {},
   "outputs": [
    {
     "name": "stdout",
     "output_type": "stream",
     "text": [
      "===FOUR===\n",
      "\n",
      "[ 9 16 17]\n"
     ]
    }
   ],
   "source": [
    "def four(filename=main_filename):\n",
    "    data = open_file(filename)\n",
    "    row_aircraft = data[0,:]\n",
    "    result_rowname =  np.where(row_aircraft == 'aircraft')[0][0]\n",
    "    aircraft_values = data[1:, result_rowname].astype(int)\n",
    "    resutl_value = (np.diff(aircraft_values))\n",
    "    # resulttest = abs(resutl_value.tolist())\n",
    "    # print(aircraft_values)\n",
    "    sort = np.sort(np.abs(resutl_value))[-3:]\n",
    "    print(f\"===FOUR===\\n\\n{sort}\") \n",
    "\n",
    "four()"
   ]
  },
  {
   "cell_type": "code",
   "execution_count": 2,
   "id": "dee7d2eb-7cc6-4dae-a2f5-d621c969b6c3",
   "metadata": {},
   "outputs": [
    {
     "ename": "NameError",
     "evalue": "name 'main_filename' is not defined",
     "output_type": "error",
     "traceback": [
      "\u001b[1;31m---------------------------------------------------------------------------\u001b[0m",
      "\u001b[1;31mNameError\u001b[0m                                 Traceback (most recent call last)",
      "Cell \u001b[1;32mIn[2], line 1\u001b[0m\n\u001b[1;32m----> 1\u001b[0m \u001b[38;5;28;01mdef\u001b[39;00m \u001b[38;5;21mfive\u001b[39m(filename\u001b[38;5;241m=\u001b[39m\u001b[43mmain_filename\u001b[49m):\n\u001b[0;32m      2\u001b[0m     data \u001b[38;5;241m=\u001b[39m open_file(filename)\n\u001b[0;32m      3\u001b[0m     row \u001b[38;5;241m=\u001b[39m data[\u001b[38;5;241m0\u001b[39m,:]\n",
      "\u001b[1;31mNameError\u001b[0m: name 'main_filename' is not defined"
     ]
    }
   ],
   "source": [
    "def five(filename=main_filename):\n",
    "    data = open_file(filename)\n",
    "    row = data[0,:]\n",
    "\n",
    "    aircraft_row =  np.where(row == 'aircraft')[0][0]\n",
    "    date_row =  np.where(row == 'date')[0][0]\n",
    "\n",
    "\n",
    "    aircraft_values = data[1:, aircraft_row].astype(int)\n",
    "    data_values = data[1:, date_row].astype('datetime64[D]')\n",
    "\n",
    "    strat_2022 = np.datetime64('2022-01-01')\n",
    "    end_2022 = np.datetime64('2022-12-31')\n",
    "\n",
    "    max_2022 = (data_values >=  strat_2022) & (data_values <= end_2022)\n",
    "    air_2022 = aircraft_values[max_2022]\n",
    "    result = np.sum(air_2022)\n",
    "    print(f\"====FIVE=====\\n{result}\")\n",
    "\n",
    "five()"
   ]
  },
  {
   "cell_type": "code",
   "execution_count": 3,
   "id": "db40c535-01e0-4860-b5ba-82055b4fc4f2",
   "metadata": {},
   "outputs": [
    {
     "ename": "NameError",
     "evalue": "name 'main_filename' is not defined",
     "output_type": "error",
     "traceback": [
      "\u001b[1;31m---------------------------------------------------------------------------\u001b[0m",
      "\u001b[1;31mNameError\u001b[0m                                 Traceback (most recent call last)",
      "Cell \u001b[1;32mIn[3], line 1\u001b[0m\n\u001b[1;32m----> 1\u001b[0m \u001b[38;5;28;01mdef\u001b[39;00m \u001b[38;5;21msix\u001b[39m(filename\u001b[38;5;241m=\u001b[39m\u001b[43mmain_filename\u001b[49m):\n\u001b[0;32m      2\u001b[0m     data \u001b[38;5;241m=\u001b[39m open_file(filename)\n\u001b[0;32m      3\u001b[0m     row \u001b[38;5;241m=\u001b[39m data[\u001b[38;5;241m0\u001b[39m, :]\n",
      "\u001b[1;31mNameError\u001b[0m: name 'main_filename' is not defined"
     ]
    }
   ],
   "source": [
    "def six(filename=main_filename):\n",
    "    data = open_file(filename)\n",
    "    row = data[0, :]\n",
    "    aircraft_row = np.where(row == 'aircraft')[0][0]\n",
    "    aircraft_values = data[1:, aircraft_row].astype(int)\n",
    "    last_300_losses = aircraft_values[-300:]\n",
    "    average_loss = np.mean(last_300_losses)\n",
    "    print(f\"====SIX=====\\n{average_loss}\")\n",
    "six()"
   ]
  },
  {
   "cell_type": "code",
   "execution_count": 4,
   "id": "2d022dfd-9903-4f7c-bf66-d9954c6a1e0f",
   "metadata": {},
   "outputs": [
    {
     "ename": "NameError",
     "evalue": "name 'main_filename' is not defined",
     "output_type": "error",
     "traceback": [
      "\u001b[1;31m---------------------------------------------------------------------------\u001b[0m",
      "\u001b[1;31mNameError\u001b[0m                                 Traceback (most recent call last)",
      "Cell \u001b[1;32mIn[4], line 1\u001b[0m\n\u001b[1;32m----> 1\u001b[0m \u001b[38;5;28;01mdef\u001b[39;00m \u001b[38;5;21mseven\u001b[39m(filename\u001b[38;5;241m=\u001b[39m\u001b[43mmain_filename\u001b[49m):\n\u001b[0;32m      2\u001b[0m     data \u001b[38;5;241m=\u001b[39m open_file(filename)[\u001b[38;5;241m1\u001b[39m:]  \n\u001b[0;32m      3\u001b[0m     data \u001b[38;5;241m=\u001b[39m data[::\u001b[38;5;241m-\u001b[39m\u001b[38;5;241m1\u001b[39m] \n",
      "\u001b[1;31mNameError\u001b[0m: name 'main_filename' is not defined"
     ]
    }
   ],
   "source": [
    "def seven(filename=main_filename):\n",
    "    data = open_file(filename)[1:]  \n",
    "    data = data[::-1] \n",
    "    data = np.array(open_file(filename)[1:])  \n",
    "    dates = data[:, 0].astype('datetime64[D]')\n",
    "    aircraft_losses = data[:, 2].astype(int)\n",
    "\n",
    "    start_date = np.datetime64('2022-02-24')\n",
    "    end_date = np.datetime64('2023-02-24')\n",
    "    mask = (dates >= start_date) & (dates < end_date)\n",
    "    filtered_dates = dates[mask]\n",
    "    filtered_losses = aircraft_losses[mask]\n",
    "\n",
    "\n",
    "    plt.figure(figsize=(10, 5), dpi=100)\n",
    "    plt.plot(filtered_dates, filtered_losses, linestyle='-', marker='o', color='orange', label='Потери самолётов')\n",
    "    plt.title('Потери самолётов с 24.02.2022 по 24.02.2023')\n",
    "    plt.xlabel('Дата')\n",
    "    plt.ylabel('Количество сбитых самолётов')\n",
    "    plt.legend()\n",
    "    plt.grid(True)\n",
    "    plt.savefig('aircraft_losses_first_year.png')\n",
    "    plt.show()\n",
    "\n",
    "seven()"
   ]
  },
  {
   "cell_type": "code",
   "execution_count": null,
   "id": "58550b3b-f65b-4565-9fbe-f3907a4539b0",
   "metadata": {},
   "outputs": [],
   "source": []
  }
 ],
 "metadata": {
  "kernelspec": {
   "display_name": "Python 3 (ipykernel)",
   "language": "python",
   "name": "python3"
  },
  "language_info": {
   "codemirror_mode": {
    "name": "ipython",
    "version": 3
   },
   "file_extension": ".py",
   "mimetype": "text/x-python",
   "name": "python",
   "nbconvert_exporter": "python",
   "pygments_lexer": "ipython3",
   "version": "3.12.7"
  }
 },
 "nbformat": 4,
 "nbformat_minor": 5
}
